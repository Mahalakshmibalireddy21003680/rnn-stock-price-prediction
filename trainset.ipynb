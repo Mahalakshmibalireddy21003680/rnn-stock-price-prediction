{
  "nbformat": 4,
  "nbformat_minor": 0,
  "metadata": {
    "colab": {
      "provenance": [],
      "gpuType": "T4"
    },
    "kernelspec": {
      "name": "python3",
      "display_name": "Python 3"
    },
    "language_info": {
      "name": "python"
    },
    "accelerator": "GPU"
  },
  "cells": [
    {
      "cell_type": "code",
      "source": [
        "dataset_train = pd.read_csv('/content/trainset.csv')"
      ],
      "metadata": {
        "id": "RVEamh9DlOT1"
      },
      "execution_count": null,
      "outputs": []
    },
    {
      "cell_type": "code",
      "source": [
        "dataset_train.columns\n"
      ],
      "metadata": {
        "colab": {
          "base_uri": "https://localhost:8080/"
        },
        "id": "ViHWiYisnX0u",
        "outputId": "57f71cfc-84af-45d5-e883-33e3018b587d"
      },
      "execution_count": null,
      "outputs": [
        {
          "output_type": "execute_result",
          "data": {
            "text/plain": [
              "Index(['Date', 'Open', 'High', 'Low', 'Close', 'Adj Close', 'Volume'], dtype='object')"
            ]
          },
          "metadata": {},
          "execution_count": 4
        }
      ]
    },
    {
      "cell_type": "code",
      "execution_count": null,
      "metadata": {
        "id": "VgGvOtdvk8_0"
      },
      "outputs": [],
      "source": [
        "import numpy as np\n",
        "import matplotlib.pyplot as plt\n",
        "import pandas as pd\n",
        "from sklearn.preprocessing import MinMaxScaler\n",
        "from keras import layers\n",
        "from keras.models import Sequential"
      ]
    },
    {
      "cell_type": "code",
      "source": [
        "dataset_train.head()\n"
      ],
      "metadata": {
        "colab": {
          "base_uri": "https://localhost:8080/",
          "height": 206
        },
        "id": "__XhOxcDncBX",
        "outputId": "b96e3c5c-85d4-48f0-c074-047c04c49024"
      },
      "execution_count": null,
      "outputs": [
        {
          "output_type": "execute_result",
          "data": {
            "text/plain": [
              "         Date        Open        High         Low       Close   Adj Close  \\\n",
              "0  02-01-2013  357.385559  361.151062  355.959839  359.288177  359.288177   \n",
              "1  03-01-2013  360.122742  363.600128  358.031342  359.496826  359.496826   \n",
              "2  04-01-2013  362.313507  368.339294  361.488861  366.600616  366.600616   \n",
              "3  07-01-2013  365.348755  367.301056  362.929504  365.001007  365.001007   \n",
              "4  08-01-2013  365.393463  365.771027  359.874359  364.280701  364.280701   \n",
              "\n",
              "    Volume  \n",
              "0  5115500  \n",
              "1  4666500  \n",
              "2  5562800  \n",
              "3  3332900  \n",
              "4  3373900  "
            ],
            "text/html": [
              "\n",
              "  <div id=\"df-106d0d13-d2e0-4e10-8835-b1b7e250a053\" class=\"colab-df-container\">\n",
              "    <div>\n",
              "<style scoped>\n",
              "    .dataframe tbody tr th:only-of-type {\n",
              "        vertical-align: middle;\n",
              "    }\n",
              "\n",
              "    .dataframe tbody tr th {\n",
              "        vertical-align: top;\n",
              "    }\n",
              "\n",
              "    .dataframe thead th {\n",
              "        text-align: right;\n",
              "    }\n",
              "</style>\n",
              "<table border=\"1\" class=\"dataframe\">\n",
              "  <thead>\n",
              "    <tr style=\"text-align: right;\">\n",
              "      <th></th>\n",
              "      <th>Date</th>\n",
              "      <th>Open</th>\n",
              "      <th>High</th>\n",
              "      <th>Low</th>\n",
              "      <th>Close</th>\n",
              "      <th>Adj Close</th>\n",
              "      <th>Volume</th>\n",
              "    </tr>\n",
              "  </thead>\n",
              "  <tbody>\n",
              "    <tr>\n",
              "      <th>0</th>\n",
              "      <td>02-01-2013</td>\n",
              "      <td>357.385559</td>\n",
              "      <td>361.151062</td>\n",
              "      <td>355.959839</td>\n",
              "      <td>359.288177</td>\n",
              "      <td>359.288177</td>\n",
              "      <td>5115500</td>\n",
              "    </tr>\n",
              "    <tr>\n",
              "      <th>1</th>\n",
              "      <td>03-01-2013</td>\n",
              "      <td>360.122742</td>\n",
              "      <td>363.600128</td>\n",
              "      <td>358.031342</td>\n",
              "      <td>359.496826</td>\n",
              "      <td>359.496826</td>\n",
              "      <td>4666500</td>\n",
              "    </tr>\n",
              "    <tr>\n",
              "      <th>2</th>\n",
              "      <td>04-01-2013</td>\n",
              "      <td>362.313507</td>\n",
              "      <td>368.339294</td>\n",
              "      <td>361.488861</td>\n",
              "      <td>366.600616</td>\n",
              "      <td>366.600616</td>\n",
              "      <td>5562800</td>\n",
              "    </tr>\n",
              "    <tr>\n",
              "      <th>3</th>\n",
              "      <td>07-01-2013</td>\n",
              "      <td>365.348755</td>\n",
              "      <td>367.301056</td>\n",
              "      <td>362.929504</td>\n",
              "      <td>365.001007</td>\n",
              "      <td>365.001007</td>\n",
              "      <td>3332900</td>\n",
              "    </tr>\n",
              "    <tr>\n",
              "      <th>4</th>\n",
              "      <td>08-01-2013</td>\n",
              "      <td>365.393463</td>\n",
              "      <td>365.771027</td>\n",
              "      <td>359.874359</td>\n",
              "      <td>364.280701</td>\n",
              "      <td>364.280701</td>\n",
              "      <td>3373900</td>\n",
              "    </tr>\n",
              "  </tbody>\n",
              "</table>\n",
              "</div>\n",
              "    <div class=\"colab-df-buttons\">\n",
              "\n",
              "  <div class=\"colab-df-container\">\n",
              "    <button class=\"colab-df-convert\" onclick=\"convertToInteractive('df-106d0d13-d2e0-4e10-8835-b1b7e250a053')\"\n",
              "            title=\"Convert this dataframe to an interactive table.\"\n",
              "            style=\"display:none;\">\n",
              "\n",
              "  <svg xmlns=\"http://www.w3.org/2000/svg\" height=\"24px\" viewBox=\"0 -960 960 960\">\n",
              "    <path d=\"M120-120v-720h720v720H120Zm60-500h600v-160H180v160Zm220 220h160v-160H400v160Zm0 220h160v-160H400v160ZM180-400h160v-160H180v160Zm440 0h160v-160H620v160ZM180-180h160v-160H180v160Zm440 0h160v-160H620v160Z\"/>\n",
              "  </svg>\n",
              "    </button>\n",
              "\n",
              "  <style>\n",
              "    .colab-df-container {\n",
              "      display:flex;\n",
              "      gap: 12px;\n",
              "    }\n",
              "\n",
              "    .colab-df-convert {\n",
              "      background-color: #E8F0FE;\n",
              "      border: none;\n",
              "      border-radius: 50%;\n",
              "      cursor: pointer;\n",
              "      display: none;\n",
              "      fill: #1967D2;\n",
              "      height: 32px;\n",
              "      padding: 0 0 0 0;\n",
              "      width: 32px;\n",
              "    }\n",
              "\n",
              "    .colab-df-convert:hover {\n",
              "      background-color: #E2EBFA;\n",
              "      box-shadow: 0px 1px 2px rgba(60, 64, 67, 0.3), 0px 1px 3px 1px rgba(60, 64, 67, 0.15);\n",
              "      fill: #174EA6;\n",
              "    }\n",
              "\n",
              "    .colab-df-buttons div {\n",
              "      margin-bottom: 4px;\n",
              "    }\n",
              "\n",
              "    [theme=dark] .colab-df-convert {\n",
              "      background-color: #3B4455;\n",
              "      fill: #D2E3FC;\n",
              "    }\n",
              "\n",
              "    [theme=dark] .colab-df-convert:hover {\n",
              "      background-color: #434B5C;\n",
              "      box-shadow: 0px 1px 3px 1px rgba(0, 0, 0, 0.15);\n",
              "      filter: drop-shadow(0px 1px 2px rgba(0, 0, 0, 0.3));\n",
              "      fill: #FFFFFF;\n",
              "    }\n",
              "  </style>\n",
              "\n",
              "    <script>\n",
              "      const buttonEl =\n",
              "        document.querySelector('#df-106d0d13-d2e0-4e10-8835-b1b7e250a053 button.colab-df-convert');\n",
              "      buttonEl.style.display =\n",
              "        google.colab.kernel.accessAllowed ? 'block' : 'none';\n",
              "\n",
              "      async function convertToInteractive(key) {\n",
              "        const element = document.querySelector('#df-106d0d13-d2e0-4e10-8835-b1b7e250a053');\n",
              "        const dataTable =\n",
              "          await google.colab.kernel.invokeFunction('convertToInteractive',\n",
              "                                                    [key], {});\n",
              "        if (!dataTable) return;\n",
              "\n",
              "        const docLinkHtml = 'Like what you see? Visit the ' +\n",
              "          '<a target=\"_blank\" href=https://colab.research.google.com/notebooks/data_table.ipynb>data table notebook</a>'\n",
              "          + ' to learn more about interactive tables.';\n",
              "        element.innerHTML = '';\n",
              "        dataTable['output_type'] = 'display_data';\n",
              "        await google.colab.output.renderOutput(dataTable, element);\n",
              "        const docLink = document.createElement('div');\n",
              "        docLink.innerHTML = docLinkHtml;\n",
              "        element.appendChild(docLink);\n",
              "      }\n",
              "    </script>\n",
              "  </div>\n",
              "\n",
              "\n",
              "<div id=\"df-1fc87629-42c8-4d9f-87f2-52462d83447b\">\n",
              "  <button class=\"colab-df-quickchart\" onclick=\"quickchart('df-1fc87629-42c8-4d9f-87f2-52462d83447b')\"\n",
              "            title=\"Suggest charts.\"\n",
              "            style=\"display:none;\">\n",
              "\n",
              "<svg xmlns=\"http://www.w3.org/2000/svg\" height=\"24px\"viewBox=\"0 0 24 24\"\n",
              "     width=\"24px\">\n",
              "    <g>\n",
              "        <path d=\"M19 3H5c-1.1 0-2 .9-2 2v14c0 1.1.9 2 2 2h14c1.1 0 2-.9 2-2V5c0-1.1-.9-2-2-2zM9 17H7v-7h2v7zm4 0h-2V7h2v10zm4 0h-2v-4h2v4z\"/>\n",
              "    </g>\n",
              "</svg>\n",
              "  </button>\n",
              "\n",
              "<style>\n",
              "  .colab-df-quickchart {\n",
              "      --bg-color: #E8F0FE;\n",
              "      --fill-color: #1967D2;\n",
              "      --hover-bg-color: #E2EBFA;\n",
              "      --hover-fill-color: #174EA6;\n",
              "      --disabled-fill-color: #AAA;\n",
              "      --disabled-bg-color: #DDD;\n",
              "  }\n",
              "\n",
              "  [theme=dark] .colab-df-quickchart {\n",
              "      --bg-color: #3B4455;\n",
              "      --fill-color: #D2E3FC;\n",
              "      --hover-bg-color: #434B5C;\n",
              "      --hover-fill-color: #FFFFFF;\n",
              "      --disabled-bg-color: #3B4455;\n",
              "      --disabled-fill-color: #666;\n",
              "  }\n",
              "\n",
              "  .colab-df-quickchart {\n",
              "    background-color: var(--bg-color);\n",
              "    border: none;\n",
              "    border-radius: 50%;\n",
              "    cursor: pointer;\n",
              "    display: none;\n",
              "    fill: var(--fill-color);\n",
              "    height: 32px;\n",
              "    padding: 0;\n",
              "    width: 32px;\n",
              "  }\n",
              "\n",
              "  .colab-df-quickchart:hover {\n",
              "    background-color: var(--hover-bg-color);\n",
              "    box-shadow: 0 1px 2px rgba(60, 64, 67, 0.3), 0 1px 3px 1px rgba(60, 64, 67, 0.15);\n",
              "    fill: var(--button-hover-fill-color);\n",
              "  }\n",
              "\n",
              "  .colab-df-quickchart-complete:disabled,\n",
              "  .colab-df-quickchart-complete:disabled:hover {\n",
              "    background-color: var(--disabled-bg-color);\n",
              "    fill: var(--disabled-fill-color);\n",
              "    box-shadow: none;\n",
              "  }\n",
              "\n",
              "  .colab-df-spinner {\n",
              "    border: 2px solid var(--fill-color);\n",
              "    border-color: transparent;\n",
              "    border-bottom-color: var(--fill-color);\n",
              "    animation:\n",
              "      spin 1s steps(1) infinite;\n",
              "  }\n",
              "\n",
              "  @keyframes spin {\n",
              "    0% {\n",
              "      border-color: transparent;\n",
              "      border-bottom-color: var(--fill-color);\n",
              "      border-left-color: var(--fill-color);\n",
              "    }\n",
              "    20% {\n",
              "      border-color: transparent;\n",
              "      border-left-color: var(--fill-color);\n",
              "      border-top-color: var(--fill-color);\n",
              "    }\n",
              "    30% {\n",
              "      border-color: transparent;\n",
              "      border-left-color: var(--fill-color);\n",
              "      border-top-color: var(--fill-color);\n",
              "      border-right-color: var(--fill-color);\n",
              "    }\n",
              "    40% {\n",
              "      border-color: transparent;\n",
              "      border-right-color: var(--fill-color);\n",
              "      border-top-color: var(--fill-color);\n",
              "    }\n",
              "    60% {\n",
              "      border-color: transparent;\n",
              "      border-right-color: var(--fill-color);\n",
              "    }\n",
              "    80% {\n",
              "      border-color: transparent;\n",
              "      border-right-color: var(--fill-color);\n",
              "      border-bottom-color: var(--fill-color);\n",
              "    }\n",
              "    90% {\n",
              "      border-color: transparent;\n",
              "      border-bottom-color: var(--fill-color);\n",
              "    }\n",
              "  }\n",
              "</style>\n",
              "\n",
              "  <script>\n",
              "    async function quickchart(key) {\n",
              "      const quickchartButtonEl =\n",
              "        document.querySelector('#' + key + ' button');\n",
              "      quickchartButtonEl.disabled = true;  // To prevent multiple clicks.\n",
              "      quickchartButtonEl.classList.add('colab-df-spinner');\n",
              "      try {\n",
              "        const charts = await google.colab.kernel.invokeFunction(\n",
              "            'suggestCharts', [key], {});\n",
              "      } catch (error) {\n",
              "        console.error('Error during call to suggestCharts:', error);\n",
              "      }\n",
              "      quickchartButtonEl.classList.remove('colab-df-spinner');\n",
              "      quickchartButtonEl.classList.add('colab-df-quickchart-complete');\n",
              "    }\n",
              "    (() => {\n",
              "      let quickchartButtonEl =\n",
              "        document.querySelector('#df-1fc87629-42c8-4d9f-87f2-52462d83447b button');\n",
              "      quickchartButtonEl.style.display =\n",
              "        google.colab.kernel.accessAllowed ? 'block' : 'none';\n",
              "    })();\n",
              "  </script>\n",
              "</div>\n",
              "    </div>\n",
              "  </div>\n"
            ]
          },
          "metadata": {},
          "execution_count": 5
        }
      ]
    },
    {
      "cell_type": "code",
      "source": [
        "train_set = dataset_train.iloc[:,1:2].values\n"
      ],
      "metadata": {
        "id": "6o2AS3d3neum"
      },
      "execution_count": null,
      "outputs": []
    },
    {
      "cell_type": "code",
      "source": [
        "type(train_set)\n"
      ],
      "metadata": {
        "colab": {
          "base_uri": "https://localhost:8080/"
        },
        "id": "0zk2TXoXnnxT",
        "outputId": "edeca5c5-5cdf-401c-c802-7afd3cf84b50"
      },
      "execution_count": null,
      "outputs": [
        {
          "output_type": "execute_result",
          "data": {
            "text/plain": [
              "numpy.ndarray"
            ]
          },
          "metadata": {},
          "execution_count": 7
        }
      ]
    },
    {
      "cell_type": "code",
      "source": [
        "train_set.shape\n"
      ],
      "metadata": {
        "colab": {
          "base_uri": "https://localhost:8080/"
        },
        "id": "4GjaB7rvnp__",
        "outputId": "3b38d455-f816-4328-ab17-f627a92d62f9"
      },
      "execution_count": null,
      "outputs": [
        {
          "output_type": "execute_result",
          "data": {
            "text/plain": [
              "(1259, 1)"
            ]
          },
          "metadata": {},
          "execution_count": 8
        }
      ]
    },
    {
      "cell_type": "code",
      "source": [
        "\n",
        "sc = MinMaxScaler(feature_range=(0,1))\n",
        "training_set_scaled = sc.fit_transform(train_set)"
      ],
      "metadata": {
        "id": "GHX8VTqWntR1"
      },
      "execution_count": null,
      "outputs": []
    },
    {
      "cell_type": "code",
      "source": [
        "training_set_scaled.shape\n"
      ],
      "metadata": {
        "colab": {
          "base_uri": "https://localhost:8080/"
        },
        "id": "9EQrzS1NnwWr",
        "outputId": "7695aa02-db32-4f1e-f5cc-a01e433ec196"
      },
      "execution_count": null,
      "outputs": [
        {
          "output_type": "execute_result",
          "data": {
            "text/plain": [
              "(1259, 1)"
            ]
          },
          "metadata": {},
          "execution_count": 10
        }
      ]
    },
    {
      "cell_type": "code",
      "source": [
        "X_train_array = []\n",
        "y_train_array = []\n",
        "for i in range(60, 1259):\n",
        "  X_train_array.append(training_set_scaled[i-60:i,0])\n",
        "  y_train_array.append(training_set_scaled[i,0])\n",
        "X_train, y_train = np.array(X_train_array), np.array(y_train_array)\n",
        "X_train1 = X_train.reshape((X_train.shape[0], X_train.shape[1],1))"
      ],
      "metadata": {
        "id": "-gnBPUaDnyys"
      },
      "execution_count": null,
      "outputs": []
    },
    {
      "cell_type": "code",
      "source": [
        "X_train.shape\n"
      ],
      "metadata": {
        "colab": {
          "base_uri": "https://localhost:8080/"
        },
        "id": "Cd7uhYHon5lW",
        "outputId": "65acb8c4-8407-45fc-cdce-d567f6e9a00f"
      },
      "execution_count": null,
      "outputs": [
        {
          "output_type": "execute_result",
          "data": {
            "text/plain": [
              "(1199, 60)"
            ]
          },
          "metadata": {},
          "execution_count": 12
        }
      ]
    },
    {
      "cell_type": "code",
      "source": [
        "length = 60\n",
        "n_features = 1\n"
      ],
      "metadata": {
        "id": "AfHzAz1Tn6_-"
      },
      "execution_count": null,
      "outputs": []
    },
    {
      "cell_type": "code",
      "source": [
        "model = Sequential()\n",
        "model.add(layers.SimpleRNN(50,input_shape=(60,1)))\n",
        "model.add(layers.Dense(1))\n",
        "model.compile(optimizer='adam', loss='mse')"
      ],
      "metadata": {
        "id": "nsmxnjHCn-Rm"
      },
      "execution_count": null,
      "outputs": []
    },
    {
      "cell_type": "code",
      "source": [
        "model.summary()\n"
      ],
      "metadata": {
        "colab": {
          "base_uri": "https://localhost:8080/"
        },
        "id": "Inc1UTlzocft",
        "outputId": "553cabe1-0279-4679-c478-67fbf0855d46"
      },
      "execution_count": null,
      "outputs": [
        {
          "output_type": "stream",
          "name": "stdout",
          "text": [
            "Model: \"sequential_2\"\n",
            "_________________________________________________________________\n",
            " Layer (type)                Output Shape              Param #   \n",
            "=================================================================\n",
            " simple_rnn_2 (SimpleRNN)    (None, 50)                2600      \n",
            "                                                                 \n",
            " dense_1 (Dense)             (None, 1)                 51        \n",
            "                                                                 \n",
            "=================================================================\n",
            "Total params: 2651 (10.36 KB)\n",
            "Trainable params: 2651 (10.36 KB)\n",
            "Non-trainable params: 0 (0.00 Byte)\n",
            "_________________________________________________________________\n"
          ]
        }
      ]
    },
    {
      "cell_type": "code",
      "source": [
        "model.fit(X_train1,y_train,epochs=100, batch_size=32)"
      ],
      "metadata": {
        "colab": {
          "base_uri": "https://localhost:8080/"
        },
        "id": "emGeyyFnoeYt",
        "outputId": "dc8417de-4c4d-4136-d122-e2a8757d23e8"
      },
      "execution_count": null,
      "outputs": [
        {
          "output_type": "stream",
          "name": "stdout",
          "text": [
            "Epoch 1/100\n",
            "38/38 [==============================] - 7s 34ms/step - loss: 0.0095\n",
            "Epoch 2/100\n",
            "38/38 [==============================] - 2s 58ms/step - loss: 5.7368e-04\n",
            "Epoch 3/100\n",
            "38/38 [==============================] - 2s 43ms/step - loss: 4.4970e-04\n",
            "Epoch 4/100\n",
            "38/38 [==============================] - 1s 34ms/step - loss: 4.2233e-04\n",
            "Epoch 5/100\n",
            "38/38 [==============================] - 1s 37ms/step - loss: 3.9264e-04\n",
            "Epoch 6/100\n",
            "38/38 [==============================] - 1s 36ms/step - loss: 3.9376e-04\n",
            "Epoch 7/100\n",
            "38/38 [==============================] - 1s 34ms/step - loss: 3.8173e-04\n",
            "Epoch 8/100\n",
            "38/38 [==============================] - 1s 35ms/step - loss: 3.3657e-04\n",
            "Epoch 9/100\n",
            "38/38 [==============================] - 1s 36ms/step - loss: 3.5257e-04\n",
            "Epoch 10/100\n",
            "38/38 [==============================] - 3s 87ms/step - loss: 3.2161e-04\n",
            "Epoch 11/100\n",
            "38/38 [==============================] - 2s 47ms/step - loss: 3.1223e-04\n",
            "Epoch 12/100\n",
            "38/38 [==============================] - 1s 36ms/step - loss: 3.2365e-04\n",
            "Epoch 13/100\n",
            "38/38 [==============================] - 1s 33ms/step - loss: 2.9621e-04\n",
            "Epoch 14/100\n",
            "38/38 [==============================] - 1s 35ms/step - loss: 3.1468e-04\n",
            "Epoch 15/100\n",
            "38/38 [==============================] - 1s 35ms/step - loss: 2.9571e-04\n",
            "Epoch 16/100\n",
            "38/38 [==============================] - 1s 36ms/step - loss: 3.2603e-04\n",
            "Epoch 17/100\n",
            "38/38 [==============================] - 1s 35ms/step - loss: 2.8504e-04\n",
            "Epoch 18/100\n",
            "38/38 [==============================] - 2s 46ms/step - loss: 2.6838e-04\n",
            "Epoch 19/100\n",
            "38/38 [==============================] - 2s 52ms/step - loss: 2.6311e-04\n",
            "Epoch 20/100\n",
            "38/38 [==============================] - 1s 35ms/step - loss: 2.6835e-04\n",
            "Epoch 21/100\n",
            "38/38 [==============================] - 1s 37ms/step - loss: 2.7083e-04\n",
            "Epoch 22/100\n",
            "38/38 [==============================] - 1s 37ms/step - loss: 2.6834e-04\n",
            "Epoch 23/100\n",
            "38/38 [==============================] - 1s 36ms/step - loss: 2.4763e-04\n",
            "Epoch 24/100\n",
            "38/38 [==============================] - 2s 47ms/step - loss: 2.4833e-04\n",
            "Epoch 25/100\n",
            "38/38 [==============================] - 2s 55ms/step - loss: 2.5526e-04\n",
            "Epoch 26/100\n",
            "38/38 [==============================] - 2s 63ms/step - loss: 2.7288e-04\n",
            "Epoch 27/100\n",
            "38/38 [==============================] - 2s 39ms/step - loss: 2.4474e-04\n",
            "Epoch 28/100\n",
            "38/38 [==============================] - 1s 34ms/step - loss: 2.4772e-04\n",
            "Epoch 29/100\n",
            "38/38 [==============================] - 1s 37ms/step - loss: 2.4872e-04\n",
            "Epoch 30/100\n",
            "38/38 [==============================] - 1s 36ms/step - loss: 2.4099e-04\n",
            "Epoch 31/100\n",
            "38/38 [==============================] - 1s 37ms/step - loss: 2.2087e-04\n",
            "Epoch 32/100\n",
            "38/38 [==============================] - 1s 34ms/step - loss: 2.1971e-04\n",
            "Epoch 33/100\n",
            "38/38 [==============================] - 1s 34ms/step - loss: 2.5190e-04\n",
            "Epoch 34/100\n",
            "38/38 [==============================] - 2s 47ms/step - loss: 2.2876e-04\n",
            "Epoch 35/100\n",
            "38/38 [==============================] - 2s 53ms/step - loss: 2.3338e-04\n",
            "Epoch 36/100\n",
            "38/38 [==============================] - 1s 35ms/step - loss: 2.8651e-04\n",
            "Epoch 37/100\n",
            "38/38 [==============================] - 1s 34ms/step - loss: 2.2454e-04\n",
            "Epoch 38/100\n",
            "38/38 [==============================] - 1s 37ms/step - loss: 2.1876e-04\n",
            "Epoch 39/100\n",
            "38/38 [==============================] - 1s 34ms/step - loss: 2.0979e-04\n",
            "Epoch 40/100\n",
            "38/38 [==============================] - 1s 35ms/step - loss: 2.1425e-04\n",
            "Epoch 41/100\n",
            "38/38 [==============================] - 1s 34ms/step - loss: 2.1285e-04\n",
            "Epoch 42/100\n",
            "38/38 [==============================] - 1s 35ms/step - loss: 2.3995e-04\n",
            "Epoch 43/100\n",
            "38/38 [==============================] - 2s 66ms/step - loss: 2.0946e-04\n",
            "Epoch 44/100\n",
            "38/38 [==============================] - 2s 42ms/step - loss: 2.0889e-04\n",
            "Epoch 45/100\n",
            "38/38 [==============================] - 1s 36ms/step - loss: 2.1769e-04\n",
            "Epoch 46/100\n",
            "38/38 [==============================] - 1s 35ms/step - loss: 1.9914e-04\n",
            "Epoch 47/100\n",
            "38/38 [==============================] - 1s 36ms/step - loss: 2.2447e-04\n",
            "Epoch 48/100\n",
            "38/38 [==============================] - 1s 35ms/step - loss: 2.1097e-04\n",
            "Epoch 49/100\n",
            "38/38 [==============================] - 1s 35ms/step - loss: 2.1063e-04\n",
            "Epoch 50/100\n",
            "38/38 [==============================] - 1s 36ms/step - loss: 1.9499e-04\n",
            "Epoch 51/100\n",
            "38/38 [==============================] - 2s 46ms/step - loss: 2.1140e-04\n",
            "Epoch 52/100\n",
            "38/38 [==============================] - 2s 58ms/step - loss: 2.0240e-04\n",
            "Epoch 53/100\n",
            "38/38 [==============================] - 1s 36ms/step - loss: 2.1615e-04\n",
            "Epoch 54/100\n",
            "38/38 [==============================] - 1s 38ms/step - loss: 2.0512e-04\n",
            "Epoch 55/100\n",
            "38/38 [==============================] - 1s 35ms/step - loss: 2.0091e-04\n",
            "Epoch 56/100\n",
            "38/38 [==============================] - 1s 34ms/step - loss: 1.9797e-04\n",
            "Epoch 57/100\n",
            "38/38 [==============================] - 1s 36ms/step - loss: 2.0120e-04\n",
            "Epoch 58/100\n",
            "38/38 [==============================] - 1s 36ms/step - loss: 1.9748e-04\n",
            "Epoch 59/100\n",
            "38/38 [==============================] - 1s 35ms/step - loss: 2.1494e-04\n",
            "Epoch 60/100\n",
            "38/38 [==============================] - 2s 65ms/step - loss: 1.8340e-04\n",
            "Epoch 61/100\n",
            "38/38 [==============================] - 1s 35ms/step - loss: 1.9132e-04\n",
            "Epoch 62/100\n",
            "38/38 [==============================] - 1s 34ms/step - loss: 2.2221e-04\n",
            "Epoch 63/100\n",
            "38/38 [==============================] - 1s 35ms/step - loss: 1.8581e-04\n",
            "Epoch 64/100\n",
            "38/38 [==============================] - 1s 34ms/step - loss: 1.9092e-04\n",
            "Epoch 65/100\n",
            "38/38 [==============================] - 1s 36ms/step - loss: 1.8494e-04\n",
            "Epoch 66/100\n",
            "38/38 [==============================] - 1s 35ms/step - loss: 1.9842e-04\n",
            "Epoch 67/100\n",
            "38/38 [==============================] - 1s 36ms/step - loss: 1.9121e-04\n",
            "Epoch 68/100\n",
            "38/38 [==============================] - 2s 47ms/step - loss: 2.0015e-04\n",
            "Epoch 69/100\n",
            "38/38 [==============================] - 2s 58ms/step - loss: 1.9023e-04\n",
            "Epoch 70/100\n",
            "38/38 [==============================] - 1s 34ms/step - loss: 1.9379e-04\n",
            "Epoch 71/100\n",
            "38/38 [==============================] - 1s 36ms/step - loss: 1.8799e-04\n",
            "Epoch 72/100\n",
            "38/38 [==============================] - 1s 36ms/step - loss: 1.7056e-04\n",
            "Epoch 73/100\n",
            "38/38 [==============================] - 1s 35ms/step - loss: 1.7896e-04\n",
            "Epoch 74/100\n",
            "38/38 [==============================] - 1s 36ms/step - loss: 1.9291e-04\n",
            "Epoch 75/100\n",
            "38/38 [==============================] - 1s 37ms/step - loss: 1.9098e-04\n",
            "Epoch 76/100\n",
            "38/38 [==============================] - 1s 36ms/step - loss: 1.8640e-04\n",
            "Epoch 77/100\n",
            "38/38 [==============================] - 2s 62ms/step - loss: 1.7750e-04\n",
            "Epoch 78/100\n",
            "38/38 [==============================] - 2s 61ms/step - loss: 1.7794e-04\n",
            "Epoch 79/100\n",
            "38/38 [==============================] - 2s 64ms/step - loss: 1.7399e-04\n",
            "Epoch 80/100\n",
            "38/38 [==============================] - 2s 52ms/step - loss: 1.7765e-04\n",
            "Epoch 81/100\n",
            "38/38 [==============================] - 1s 34ms/step - loss: 1.7929e-04\n",
            "Epoch 82/100\n",
            "38/38 [==============================] - 1s 36ms/step - loss: 1.9445e-04\n",
            "Epoch 83/100\n",
            "38/38 [==============================] - 2s 42ms/step - loss: 2.0969e-04\n",
            "Epoch 84/100\n",
            "38/38 [==============================] - 2s 58ms/step - loss: 1.6937e-04\n",
            "Epoch 85/100\n",
            "38/38 [==============================] - 1s 34ms/step - loss: 1.7650e-04\n",
            "Epoch 86/100\n",
            "38/38 [==============================] - 1s 34ms/step - loss: 1.6812e-04\n",
            "Epoch 87/100\n",
            "38/38 [==============================] - 1s 35ms/step - loss: 1.6507e-04\n",
            "Epoch 88/100\n",
            "38/38 [==============================] - 1s 35ms/step - loss: 1.7753e-04\n",
            "Epoch 89/100\n",
            "38/38 [==============================] - 1s 36ms/step - loss: 1.7933e-04\n",
            "Epoch 90/100\n",
            "38/38 [==============================] - 1s 35ms/step - loss: 1.7663e-04\n",
            "Epoch 91/100\n",
            "38/38 [==============================] - 1s 35ms/step - loss: 1.9015e-04\n",
            "Epoch 92/100\n",
            "38/38 [==============================] - 2s 58ms/step - loss: 1.7700e-04\n",
            "Epoch 93/100\n",
            "38/38 [==============================] - 2s 44ms/step - loss: 1.6868e-04\n",
            "Epoch 94/100\n",
            "38/38 [==============================] - 1s 34ms/step - loss: 1.6608e-04\n",
            "Epoch 95/100\n",
            "38/38 [==============================] - 1s 35ms/step - loss: 1.7027e-04\n",
            "Epoch 96/100\n",
            "38/38 [==============================] - 1s 35ms/step - loss: 1.6640e-04\n",
            "Epoch 97/100\n",
            "38/38 [==============================] - 1s 34ms/step - loss: 1.6640e-04\n",
            "Epoch 98/100\n",
            "38/38 [==============================] - 1s 35ms/step - loss: 1.6874e-04\n",
            "Epoch 99/100\n",
            "38/38 [==============================] - 1s 35ms/step - loss: 1.7518e-04\n",
            "Epoch 100/100\n",
            "38/38 [==============================] - 2s 41ms/step - loss: 1.8192e-04\n"
          ]
        },
        {
          "output_type": "execute_result",
          "data": {
            "text/plain": [
              "<keras.src.callbacks.History at 0x7a9ce485e320>"
            ]
          },
          "metadata": {},
          "execution_count": 18
        }
      ]
    },
    {
      "cell_type": "code",
      "source": [
        "dataset_test = pd.read_csv('testset.csv')\n"
      ],
      "metadata": {
        "id": "Gn01-S7DrXv6"
      },
      "execution_count": null,
      "outputs": []
    },
    {
      "cell_type": "code",
      "source": [
        "test_set = dataset_test.iloc[:,1:2].values\n"
      ],
      "metadata": {
        "id": "vBGVJ5zerhqV"
      },
      "execution_count": null,
      "outputs": []
    },
    {
      "cell_type": "code",
      "source": [
        "test_set.shape\n"
      ],
      "metadata": {
        "colab": {
          "base_uri": "https://localhost:8080/"
        },
        "id": "gYsJQl9Srim5",
        "outputId": "1f16a7bb-2d3c-40f0-b0b9-5ebef051663c"
      },
      "execution_count": null,
      "outputs": [
        {
          "output_type": "execute_result",
          "data": {
            "text/plain": [
              "(125, 1)"
            ]
          },
          "metadata": {},
          "execution_count": 21
        }
      ]
    },
    {
      "cell_type": "code",
      "source": [
        "dataset_total = pd.concat((dataset_train['Open'],dataset_test['Open']),axis=0)\n"
      ],
      "metadata": {
        "id": "Gsqm5aIyrk7Q"
      },
      "execution_count": null,
      "outputs": []
    },
    {
      "cell_type": "code",
      "source": [
        "inputs = dataset_total.values\n",
        "inputs = inputs.reshape(-1,1)\n",
        "inputs_scaled=sc.transform(inputs)\n",
        "X_test = []\n",
        "for i in range(60,1384):\n",
        "  X_test.append(inputs_scaled[i-60:i,0])\n",
        "X_test = np.array(X_test)\n",
        "X_test = np.reshape(X_test,(X_test.shape[0], X_test.shape[1],1))"
      ],
      "metadata": {
        "id": "kNmx6bPVrpTm"
      },
      "execution_count": null,
      "outputs": []
    },
    {
      "cell_type": "code",
      "source": [
        "X_test.shape\n"
      ],
      "metadata": {
        "colab": {
          "base_uri": "https://localhost:8080/"
        },
        "id": "362teLwZrqYG",
        "outputId": "91900da7-5e7e-48a2-82f3-214d14b7675f"
      },
      "execution_count": null,
      "outputs": [
        {
          "output_type": "execute_result",
          "data": {
            "text/plain": [
              "(1324, 60, 1)"
            ]
          },
          "metadata": {},
          "execution_count": 24
        }
      ]
    },
    {
      "cell_type": "code",
      "source": [
        "predicted_stock_price_scaled = model.predict(X_test)\n",
        "predicted_stock_price = sc.inverse_transform(predicted_stock_price_scaled)"
      ],
      "metadata": {
        "colab": {
          "base_uri": "https://localhost:8080/"
        },
        "id": "CzkD6srNrsVR",
        "outputId": "84882b63-5739-4d32-9b89-fa40449e5336"
      },
      "execution_count": null,
      "outputs": [
        {
          "output_type": "stream",
          "name": "stdout",
          "text": [
            "42/42 [==============================] - 0s 6ms/step\n"
          ]
        }
      ]
    },
    {
      "cell_type": "code",
      "source": [
        "plt.plot(np.arange(0,1384),inputs, color='blue', label = 'Test(Real) Google stock price')\n",
        "plt.plot(np.arange(60,1384),predicted_stock_price, color='red', label = 'Predicted Google stock price')\n",
        "plt.title('Google Stock Price Prediction')\n",
        "plt.xlabel('Time')\n",
        "plt.ylabel('Google Stock Price')\n",
        "plt.legend()\n",
        "plt.show()"
      ],
      "metadata": {
        "colab": {
          "base_uri": "https://localhost:8080/",
          "height": 472
        },
        "id": "GZW8vazNrv8V",
        "outputId": "fde028cc-d40a-457c-c806-5706188b9936"
      },
      "execution_count": null,
      "outputs": [
        {
          "output_type": "display_data",
          "data": {
            "text/plain": [
              "<Figure size 640x480 with 1 Axes>"
            ],
            "image/png": "[encoded data removed]"
          },
          "metadata": {}
        }
      ]
    }
  ]
}